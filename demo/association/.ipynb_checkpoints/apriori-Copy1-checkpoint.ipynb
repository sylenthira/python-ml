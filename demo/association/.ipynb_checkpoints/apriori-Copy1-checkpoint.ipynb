{
 "cells": [
  {
   "cell_type": "code",
   "execution_count": 2,
   "metadata": {},
   "outputs": [],
   "source": [
    "import numpy as np\n",
    "import pandas as pd"
   ]
  },
  {
   "cell_type": "code",
   "execution_count": 3,
   "metadata": {},
   "outputs": [],
   "source": [
    "dataset = pd.read_csv('data/GroceryStoreDataSet.csv', header=None, skiprows=1)"
   ]
  },
  {
   "cell_type": "code",
   "execution_count": 3,
   "metadata": {},
   "outputs": [
    {
     "data": {
      "text/plain": [
       "[['BREAD', 'MILK', 'BISCUIT', 'CORNFLAKES'],\n",
       " ['MILK', 'BREAD', 'BISCUIT', 'nan'],\n",
       " ['BREAD', 'TEA', 'BOURNVITA', 'nan'],\n",
       " ['JAM', 'MAGGI', 'BREAD', 'MILK'],\n",
       " ['MAGGI', 'TEA', 'BISCUIT', 'nan'],\n",
       " ['BREAD', 'TEA', 'BOURNVITA', 'nan'],\n",
       " ['MAGGI', 'TEA', 'CORNFLAKES', 'nan'],\n",
       " ['MAGGI', 'BREAD', 'TEA', 'BISCUIT'],\n",
       " ['JAM', 'MAGGI', 'BREAD', 'TEA'],\n",
       " ['BREAD', 'MILK', 'nan', 'nan'],\n",
       " ['COFFEE', 'BISCUIT', 'CORNFLAKES', 'nan'],\n",
       " ['COFFEE', 'BISCUIT', 'CORNFLAKES', 'nan'],\n",
       " ['COFFEE', 'SUGER', 'BOURNVITA', 'nan'],\n",
       " ['BREAD', 'COFFEE', 'nan', 'nan'],\n",
       " ['BREAD', 'SUGER', 'BISCUIT', 'nan'],\n",
       " ['COFFEE', 'SUGER', 'CORNFLAKES', 'nan'],\n",
       " ['BREAD', 'SUGER', ' BOURNVITA', 'nan'],\n",
       " ['BREAD', 'COFFEE', 'SUGER', 'nan'],\n",
       " ['BREAD', 'COFFEE', 'SUGER', 'nan'],\n",
       " ['TEA', 'MILK', 'COFFEE', 'CORNFLAKES']]"
      ]
     },
     "execution_count": 3,
     "metadata": {},
     "output_type": "execute_result"
    }
   ],
   "source": [
    "transactions = []\n",
    "for i in range (0, dataset.shape[0]):\n",
    "    transactions.append([str(dataset.values[i,j]) for j in range (0, dataset.shape[1])])\n",
    "transactions"
   ]
  },
  {
   "cell_type": "code",
   "execution_count": 7,
   "metadata": {},
   "outputs": [],
   "source": [
    "from apyori import apriori\n",
    "rules = apriori(transactions, min_support=0.1, min_confidence=0.9,  min_lift=3, min_length=2)"
   ]
  },
  {
   "cell_type": "code",
   "execution_count": 8,
   "metadata": {},
   "outputs": [
    {
     "name": "stdout",
     "output_type": "stream",
     "text": [
      "RelationRecord(items=frozenset({'JAM', 'MAGGI'}), support=0.1, ordered_statistics=[OrderedStatistic(items_base=frozenset({'JAM'}), items_add=frozenset({'MAGGI'}), confidence=1.0, lift=4.0)])\n",
      "\n",
      "RelationRecord(items=frozenset({'COFFEE', 'BISCUIT', 'CORNFLAKES'}), support=0.1, ordered_statistics=[OrderedStatistic(items_base=frozenset({'COFFEE', 'BISCUIT'}), items_add=frozenset({'CORNFLAKES'}), confidence=1.0, lift=3.3333333333333335)])\n",
      "\n",
      "RelationRecord(items=frozenset({'MAGGI', 'BISCUIT', 'TEA'}), support=0.1, ordered_statistics=[OrderedStatistic(items_base=frozenset({'BISCUIT', 'TEA'}), items_add=frozenset({'MAGGI'}), confidence=1.0, lift=4.0)])\n",
      "\n",
      "RelationRecord(items=frozenset({'JAM', 'MAGGI', 'BREAD'}), support=0.1, ordered_statistics=[OrderedStatistic(items_base=frozenset({'JAM', 'BREAD'}), items_add=frozenset({'MAGGI'}), confidence=1.0, lift=4.0)])\n",
      "\n",
      "RelationRecord(items=frozenset({'COFFEE', 'BISCUIT', 'nan', 'CORNFLAKES'}), support=0.1, ordered_statistics=[OrderedStatistic(items_base=frozenset({'COFFEE', 'BISCUIT', 'nan'}), items_add=frozenset({'CORNFLAKES'}), confidence=1.0, lift=3.3333333333333335)])\n",
      "\n",
      "RelationRecord(items=frozenset({'TEA', 'BREAD', 'BOURNVITA', 'nan'}), support=0.1, ordered_statistics=[OrderedStatistic(items_base=frozenset({'BREAD', 'TEA', 'nan'}), items_add=frozenset({'BOURNVITA'}), confidence=1.0, lift=6.666666666666667)])\n",
      "\n"
     ]
    }
   ],
   "source": [
    "results = list(rules)\n",
    "for r in results:\n",
    "    print(str(r) +'\\n')"
   ]
  },
  {
   "cell_type": "code",
   "execution_count": null,
   "metadata": {},
   "outputs": [],
   "source": []
  }
 ],
 "metadata": {
  "kernelspec": {
   "display_name": "Python 3",
   "language": "python",
   "name": "python3"
  },
  "language_info": {
   "codemirror_mode": {
    "name": "ipython",
    "version": 3
   },
   "file_extension": ".py",
   "mimetype": "text/x-python",
   "name": "python",
   "nbconvert_exporter": "python",
   "pygments_lexer": "ipython3",
   "version": "3.5.2"
  }
 },
 "nbformat": 4,
 "nbformat_minor": 2
}
